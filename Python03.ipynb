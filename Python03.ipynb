{
  "nbformat": 4,
  "nbformat_minor": 0,
  "metadata": {
    "colab": {
      "name": "Python03.ipynb",
      "version": "0.3.2",
      "provenance": []
    },
    "kernelspec": {
      "name": "python3",
      "display_name": "Python 3"
    }
  },
  "cells": [
    {
      "metadata": {
        "id": "SbIdaElyPSES",
        "colab_type": "code",
        "colab": {
          "base_uri": "https://localhost:8080/",
          "height": 34
        },
        "outputId": "bc5ea90a-a54d-4bc3-9f00-319da202da49"
      },
      "cell_type": "code",
      "source": [
        "x=10\n",
        "y=12\n",
        "if x>y:\n",
        "  print(\"x>y\")\n",
        "elif x<y:\n",
        "  print(\"x<y\")\n",
        "else:\n",
        "  print(\"x=y\")"
      ],
      "execution_count": 9,
      "outputs": [
        {
          "output_type": "stream",
          "text": [
            "x<y\n"
          ],
          "name": "stdout"
        }
      ]
    },
    {
      "metadata": {
        "id": "p0t0OKSNRi0g",
        "colab_type": "code",
        "colab": {
          "base_uri": "https://localhost:8080/",
          "height": 50
        },
        "outputId": "30d8d9f7-783a-4c80-cfaa-aa6b3e22084f"
      },
      "cell_type": "code",
      "source": [
        "x= 11\n",
        "y=12\n",
        "if x>y:\n",
        "  print(\"x>y\")\n",
        "elif x<y:\n",
        "  print(\"x<y\")\n",
        "  if x==10:\n",
        "    print(\"x=10\")\n",
        "  else:\n",
        "    print(\"invalid\")\n",
        "else:\n",
        "  print(\"x=y\")"
      ],
      "execution_count": 11,
      "outputs": [
        {
          "output_type": "stream",
          "text": [
            "x<y\n",
            "invalid\n"
          ],
          "name": "stdout"
        }
      ]
    },
    {
      "metadata": {
        "id": "-j6SS3ivRHlQ",
        "colab_type": "code",
        "colab": {
          "base_uri": "https://localhost:8080/",
          "height": 84
        },
        "outputId": "dcc89357-8bec-43c5-9a1b-9a85ae79d912"
      },
      "cell_type": "code",
      "source": [
        "for i in range(1,5):\n",
        "  print(i+32)"
      ],
      "execution_count": 16,
      "outputs": [
        {
          "output_type": "stream",
          "text": [
            "33\n",
            "34\n",
            "35\n",
            "36\n"
          ],
          "name": "stdout"
        }
      ]
    },
    {
      "metadata": {
        "id": "Sh3mUtV4VDAw",
        "colab_type": "code",
        "colab": {
          "base_uri": "https://localhost:8080/",
          "height": 67
        },
        "outputId": "f0f2cc53-676e-404d-8332-3baafb18d8af"
      },
      "cell_type": "code",
      "source": [
        "list_of_lists = [[1,2,3],[4,5,6],[7,8,9]]\n",
        "for list1 in reversed(list_of_lists):\n",
        "  print(list1)"
      ],
      "execution_count": 29,
      "outputs": [
        {
          "output_type": "stream",
          "text": [
            "[7, 8, 9]\n",
            "[4, 5, 6]\n",
            "[1, 2, 3]\n"
          ],
          "name": "stdout"
        }
      ]
    },
    {
      "metadata": {
        "id": "uyoow8ReWL-R",
        "colab_type": "code",
        "colab": {
          "base_uri": "https://localhost:8080/",
          "height": 168
        },
        "outputId": "37eea00d-6643-40a9-d185-9d3f2baa6b30"
      },
      "cell_type": "code",
      "source": [
        "list_of_lists = [[1,2,3],[4,5,6],[7,8,9]]\n",
        "for list1 in list_of_lists:\n",
        "  for y in list1:\n",
        "    print(y)"
      ],
      "execution_count": 30,
      "outputs": [
        {
          "output_type": "stream",
          "text": [
            "1\n",
            "2\n",
            "3\n",
            "4\n",
            "5\n",
            "6\n",
            "7\n",
            "8\n",
            "9\n"
          ],
          "name": "stdout"
        }
      ]
    },
    {
      "metadata": {
        "id": "ebDZdUCHXbOX",
        "colab_type": "code",
        "colab": {
          "base_uri": "https://localhost:8080/",
          "height": 67
        },
        "outputId": "dd6b249b-d5b7-4c92-e37a-de434fe59666"
      },
      "cell_type": "code",
      "source": [
        "i=1\n",
        "while i<3:\n",
        "  print(i**2)\n",
        "  i=i+1\n",
        "print('bye')"
      ],
      "execution_count": 1,
      "outputs": [
        {
          "output_type": "stream",
          "text": [
            "1\n",
            "4\n",
            "bye\n"
          ],
          "name": "stdout"
        }
      ]
    },
    {
      "metadata": {
        "id": "Le5HLmwvYM2g",
        "colab_type": "code",
        "colab": {
          "base_uri": "https://localhost:8080/",
          "height": 118
        },
        "outputId": "35f14856-a56d-4c4b-e540-4f0f9efc56db"
      },
      "cell_type": "code",
      "source": [
        "for i in range(100):\n",
        "  print(i)\n",
        "  if i==5:\n",
        "    break"
      ],
      "execution_count": 10,
      "outputs": [
        {
          "output_type": "stream",
          "text": [
            "0\n",
            "1\n",
            "2\n",
            "3\n",
            "4\n",
            "5\n"
          ],
          "name": "stdout"
        }
      ]
    },
    {
      "metadata": {
        "id": "Xd14Ez9AY9mQ",
        "colab_type": "code",
        "colab": {
          "base_uri": "https://localhost:8080/",
          "height": 185
        },
        "outputId": "6c70b662-6e66-436f-b2e5-27134741fa9e"
      },
      "cell_type": "code",
      "source": [
        "for i in range(10):\n",
        "  if i>4:\n",
        "    print(\"the end\")\n",
        "    continue\n",
        "  elif i<7:\n",
        "    print(i)\n"
      ],
      "execution_count": 12,
      "outputs": [
        {
          "output_type": "stream",
          "text": [
            "0\n",
            "1\n",
            "2\n",
            "3\n",
            "4\n",
            "the end\n",
            "the end\n",
            "the end\n",
            "the end\n",
            "the end\n"
          ],
          "name": "stdout"
        }
      ]
    },
    {
      "metadata": {
        "id": "AmbKFhc4ZryJ",
        "colab_type": "code",
        "colab": {
          "base_uri": "https://localhost:8080/",
          "height": 34
        },
        "outputId": "5af0a9ae-f0ee-42e2-b720-263b6310ac08"
      },
      "cell_type": "code",
      "source": [
        "res=[]\n",
        "for i in range(1,11):\n",
        "  x=27*i\n",
        "  res.append(x)\n",
        "print(res)"
      ],
      "execution_count": 14,
      "outputs": [
        {
          "output_type": "stream",
          "text": [
            "[27, 54, 81, 108, 135, 162, 189, 216, 243, 270]\n"
          ],
          "name": "stdout"
        }
      ]
    },
    {
      "metadata": {
        "id": "DPJbpM1rahjg",
        "colab_type": "code",
        "colab": {
          "base_uri": "https://localhost:8080/",
          "height": 34
        },
        "outputId": "e56a1551-3658-43ab-98a9-64e7621c62cf"
      },
      "cell_type": "code",
      "source": [
        "[27*x for x in range(1,20) if x<=10]"
      ],
      "execution_count": 15,
      "outputs": [
        {
          "output_type": "execute_result",
          "data": {
            "text/plain": [
              "[27, 54, 81, 108, 135, 162, 189, 216, 243, 270]"
            ]
          },
          "metadata": {
            "tags": []
          },
          "execution_count": 15
        }
      ]
    },
    {
      "metadata": {
        "id": "NV9Dc27gbVbo",
        "colab_type": "code",
        "colab": {
          "base_uri": "https://localhost:8080/",
          "height": 50
        },
        "outputId": "8e258ecd-5c65-44e1-cb92-e0c16d69ddf0"
      },
      "cell_type": "code",
      "source": [
        "#establecer numero que divide\n",
        "dividir = 5\n",
        "\n",
        "#dos listas\n",
        "bajos =[]; altos=[]\n",
        "\n",
        "#dividr en listas\n",
        "for i in range(10):\n",
        "  if(i<dividir):\n",
        "    bajos.append(i)\n",
        "  else:\n",
        "    altos.append(i)\n",
        "    \n",
        "print(\"bajos:\", bajos)\n",
        "print(\"altos:\", altos)"
      ],
      "execution_count": 16,
      "outputs": [
        {
          "output_type": "stream",
          "text": [
            "bajos: [0, 1, 2, 3, 4]\n",
            "altos: [5, 6, 7, 8, 9]\n"
          ],
          "name": "stdout"
        }
      ]
    }
  ]
}